{
 "cells": [
  {
   "cell_type": "code",
   "execution_count": 56,
   "id": "e0a8ae4e",
   "metadata": {},
   "outputs": [],
   "source": [
    "import pandas as pd\n",
    "import numpy as np\n",
    "import json\n",
    "import requests\n",
    "import matplotlib.pyplot as plt\n",
    "from math import pi\n",
    "import plotly.graph_objects as go\n",
    "from plotly.subplots import make_subplots"
   ]
  },
  {
   "cell_type": "code",
   "execution_count": 60,
   "id": "44572390",
   "metadata": {},
   "outputs": [],
   "source": [
    "#Feching data from FootyStats API\n",
    "url='https://api.football-data-api.com/league-teams?key=test85g57&season_id=7704&include=stats'\n",
    "res = requests.get(url)\n",
    "teams_info = json.loads(res.text)\n",
    "teams_info\n",
    "url='https://api.football-data-api.com/league-teams?key=test85g57&season_id=7704&include=stats'\n",
    "res = requests.get(url)\n",
    "teams_info = json.loads(res.text)\n"
   ]
  },
  {
   "cell_type": "code",
   "execution_count": 61,
   "id": "313832ab",
   "metadata": {},
   "outputs": [
    {
     "data": {
      "text/html": [
       "<div>\n",
       "<style scoped>\n",
       "    .dataframe tbody tr th:only-of-type {\n",
       "        vertical-align: middle;\n",
       "    }\n",
       "\n",
       "    .dataframe tbody tr th {\n",
       "        vertical-align: top;\n",
       "    }\n",
       "\n",
       "    .dataframe thead th {\n",
       "        text-align: right;\n",
       "    }\n",
       "</style>\n",
       "<table border=\"1\" class=\"dataframe\">\n",
       "  <thead>\n",
       "    <tr style=\"text-align: right;\">\n",
       "      <th></th>\n",
       "      <th>Team</th>\n",
       "      <th>Total Goals</th>\n",
       "      <th>Total Conceded</th>\n",
       "      <th>Avg Goals per 90</th>\n",
       "      <th>Avg conceded per 90</th>\n",
       "      <th>Total Corners</th>\n",
       "      <th>Total Shots</th>\n",
       "      <th>Total Shots on Target</th>\n",
       "      <th>Avg Shots off Target</th>\n",
       "      <th>Avg Shots on Target</th>\n",
       "      <th>Avg possesion per 90</th>\n",
       "      <th>Total Attacks</th>\n",
       "      <th>Total Dangerous Attacks</th>\n",
       "      <th>Matches</th>\n",
       "      <th>goals_conceded_min_0_to_10</th>\n",
       "      <th>goals_conceded_min_11_to_20</th>\n",
       "      <th>goals_scored_min_0_to_10</th>\n",
       "      <th>goals_scored_min_11_to_20</th>\n",
       "    </tr>\n",
       "  </thead>\n",
       "  <tbody>\n",
       "    <tr>\n",
       "      <th>0</th>\n",
       "      <td>Arsenal FC</td>\n",
       "      <td>51</td>\n",
       "      <td>23</td>\n",
       "      <td>2.22</td>\n",
       "      <td>1.00</td>\n",
       "      <td>130</td>\n",
       "      <td>388</td>\n",
       "      <td>142</td>\n",
       "      <td>246</td>\n",
       "      <td>6.17</td>\n",
       "      <td>59</td>\n",
       "      <td>2669</td>\n",
       "      <td>1533</td>\n",
       "      <td>23</td>\n",
       "      <td>1</td>\n",
       "      <td>1</td>\n",
       "      <td>4</td>\n",
       "      <td>7</td>\n",
       "    </tr>\n",
       "    <tr>\n",
       "      <th>1</th>\n",
       "      <td>Tottenham Hotspur FC</td>\n",
       "      <td>44</td>\n",
       "      <td>35</td>\n",
       "      <td>1.83</td>\n",
       "      <td>1.46</td>\n",
       "      <td>139</td>\n",
       "      <td>348</td>\n",
       "      <td>149</td>\n",
       "      <td>199</td>\n",
       "      <td>6.21</td>\n",
       "      <td>50</td>\n",
       "      <td>2069</td>\n",
       "      <td>1024</td>\n",
       "      <td>24</td>\n",
       "      <td>2</td>\n",
       "      <td>6</td>\n",
       "      <td>2</td>\n",
       "      <td>2</td>\n",
       "    </tr>\n",
       "    <tr>\n",
       "      <th>2</th>\n",
       "      <td>Manchester City FC</td>\n",
       "      <td>60</td>\n",
       "      <td>24</td>\n",
       "      <td>2.50</td>\n",
       "      <td>1.00</td>\n",
       "      <td>157</td>\n",
       "      <td>415</td>\n",
       "      <td>166</td>\n",
       "      <td>249</td>\n",
       "      <td>6.92</td>\n",
       "      <td>65</td>\n",
       "      <td>3113</td>\n",
       "      <td>1586</td>\n",
       "      <td>24</td>\n",
       "      <td>1</td>\n",
       "      <td>2</td>\n",
       "      <td>4</td>\n",
       "      <td>5</td>\n",
       "    </tr>\n",
       "    <tr>\n",
       "      <th>3</th>\n",
       "      <td>Leicester City FC</td>\n",
       "      <td>36</td>\n",
       "      <td>41</td>\n",
       "      <td>1.57</td>\n",
       "      <td>1.78</td>\n",
       "      <td>88</td>\n",
       "      <td>270</td>\n",
       "      <td>117</td>\n",
       "      <td>153</td>\n",
       "      <td>5.09</td>\n",
       "      <td>50</td>\n",
       "      <td>2320</td>\n",
       "      <td>906</td>\n",
       "      <td>23</td>\n",
       "      <td>5</td>\n",
       "      <td>3</td>\n",
       "      <td>6</td>\n",
       "      <td>3</td>\n",
       "    </tr>\n",
       "    <tr>\n",
       "      <th>4</th>\n",
       "      <td>Crystal Palace FC</td>\n",
       "      <td>21</td>\n",
       "      <td>31</td>\n",
       "      <td>0.91</td>\n",
       "      <td>1.35</td>\n",
       "      <td>100</td>\n",
       "      <td>270</td>\n",
       "      <td>108</td>\n",
       "      <td>162</td>\n",
       "      <td>4.70</td>\n",
       "      <td>44</td>\n",
       "      <td>2107</td>\n",
       "      <td>950</td>\n",
       "      <td>23</td>\n",
       "      <td>3</td>\n",
       "      <td>3</td>\n",
       "      <td>3</td>\n",
       "      <td>1</td>\n",
       "    </tr>\n",
       "    <tr>\n",
       "      <th>5</th>\n",
       "      <td>Everton FC</td>\n",
       "      <td>17</td>\n",
       "      <td>30</td>\n",
       "      <td>0.74</td>\n",
       "      <td>1.30</td>\n",
       "      <td>110</td>\n",
       "      <td>251</td>\n",
       "      <td>97</td>\n",
       "      <td>154</td>\n",
       "      <td>4.22</td>\n",
       "      <td>45</td>\n",
       "      <td>2183</td>\n",
       "      <td>926</td>\n",
       "      <td>23</td>\n",
       "      <td>0</td>\n",
       "      <td>3</td>\n",
       "      <td>2</td>\n",
       "      <td>2</td>\n",
       "    </tr>\n",
       "    <tr>\n",
       "      <th>6</th>\n",
       "      <td>Southampton FC</td>\n",
       "      <td>19</td>\n",
       "      <td>40</td>\n",
       "      <td>0.83</td>\n",
       "      <td>1.74</td>\n",
       "      <td>95</td>\n",
       "      <td>283</td>\n",
       "      <td>99</td>\n",
       "      <td>184</td>\n",
       "      <td>4.30</td>\n",
       "      <td>44</td>\n",
       "      <td>2269</td>\n",
       "      <td>989</td>\n",
       "      <td>23</td>\n",
       "      <td>1</td>\n",
       "      <td>3</td>\n",
       "      <td>2</td>\n",
       "      <td>2</td>\n",
       "    </tr>\n",
       "    <tr>\n",
       "      <th>7</th>\n",
       "      <td>AFC Bournemouth</td>\n",
       "      <td>21</td>\n",
       "      <td>44</td>\n",
       "      <td>0.91</td>\n",
       "      <td>1.91</td>\n",
       "      <td>85</td>\n",
       "      <td>203</td>\n",
       "      <td>96</td>\n",
       "      <td>107</td>\n",
       "      <td>4.17</td>\n",
       "      <td>39</td>\n",
       "      <td>1851</td>\n",
       "      <td>819</td>\n",
       "      <td>23</td>\n",
       "      <td>6</td>\n",
       "      <td>4</td>\n",
       "      <td>3</td>\n",
       "      <td>2</td>\n",
       "    </tr>\n",
       "    <tr>\n",
       "      <th>8</th>\n",
       "      <td>Manchester United FC</td>\n",
       "      <td>41</td>\n",
       "      <td>28</td>\n",
       "      <td>1.71</td>\n",
       "      <td>1.17</td>\n",
       "      <td>104</td>\n",
       "      <td>342</td>\n",
       "      <td>146</td>\n",
       "      <td>196</td>\n",
       "      <td>6.08</td>\n",
       "      <td>54</td>\n",
       "      <td>2492</td>\n",
       "      <td>1192</td>\n",
       "      <td>24</td>\n",
       "      <td>5</td>\n",
       "      <td>2</td>\n",
       "      <td>1</td>\n",
       "      <td>5</td>\n",
       "    </tr>\n",
       "    <tr>\n",
       "      <th>9</th>\n",
       "      <td>Liverpool FC</td>\n",
       "      <td>38</td>\n",
       "      <td>28</td>\n",
       "      <td>1.73</td>\n",
       "      <td>1.27</td>\n",
       "      <td>147</td>\n",
       "      <td>386</td>\n",
       "      <td>152</td>\n",
       "      <td>234</td>\n",
       "      <td>6.91</td>\n",
       "      <td>60</td>\n",
       "      <td>2562</td>\n",
       "      <td>1271</td>\n",
       "      <td>22</td>\n",
       "      <td>6</td>\n",
       "      <td>4</td>\n",
       "      <td>5</td>\n",
       "      <td>3</td>\n",
       "    </tr>\n",
       "    <tr>\n",
       "      <th>10</th>\n",
       "      <td>Chelsea FC</td>\n",
       "      <td>23</td>\n",
       "      <td>23</td>\n",
       "      <td>1.00</td>\n",
       "      <td>1.00</td>\n",
       "      <td>129</td>\n",
       "      <td>293</td>\n",
       "      <td>115</td>\n",
       "      <td>178</td>\n",
       "      <td>5.00</td>\n",
       "      <td>59</td>\n",
       "      <td>2516</td>\n",
       "      <td>1301</td>\n",
       "      <td>23</td>\n",
       "      <td>2</td>\n",
       "      <td>1</td>\n",
       "      <td>1</td>\n",
       "      <td>4</td>\n",
       "    </tr>\n",
       "    <tr>\n",
       "      <th>11</th>\n",
       "      <td>West Ham United FC</td>\n",
       "      <td>19</td>\n",
       "      <td>29</td>\n",
       "      <td>0.83</td>\n",
       "      <td>1.26</td>\n",
       "      <td>116</td>\n",
       "      <td>324</td>\n",
       "      <td>104</td>\n",
       "      <td>220</td>\n",
       "      <td>4.52</td>\n",
       "      <td>43</td>\n",
       "      <td>2154</td>\n",
       "      <td>1042</td>\n",
       "      <td>23</td>\n",
       "      <td>3</td>\n",
       "      <td>3</td>\n",
       "      <td>0</td>\n",
       "      <td>1</td>\n",
       "    </tr>\n",
       "    <tr>\n",
       "      <th>12</th>\n",
       "      <td>Newcastle United FC</td>\n",
       "      <td>35</td>\n",
       "      <td>15</td>\n",
       "      <td>1.52</td>\n",
       "      <td>0.65</td>\n",
       "      <td>159</td>\n",
       "      <td>342</td>\n",
       "      <td>138</td>\n",
       "      <td>204</td>\n",
       "      <td>6.00</td>\n",
       "      <td>52</td>\n",
       "      <td>2389</td>\n",
       "      <td>1302</td>\n",
       "      <td>23</td>\n",
       "      <td>2</td>\n",
       "      <td>1</td>\n",
       "      <td>3</td>\n",
       "      <td>1</td>\n",
       "    </tr>\n",
       "    <tr>\n",
       "      <th>13</th>\n",
       "      <td>Aston Villa FC</td>\n",
       "      <td>28</td>\n",
       "      <td>38</td>\n",
       "      <td>1.22</td>\n",
       "      <td>1.65</td>\n",
       "      <td>95</td>\n",
       "      <td>278</td>\n",
       "      <td>114</td>\n",
       "      <td>164</td>\n",
       "      <td>4.96</td>\n",
       "      <td>48</td>\n",
       "      <td>2209</td>\n",
       "      <td>907</td>\n",
       "      <td>23</td>\n",
       "      <td>6</td>\n",
       "      <td>4</td>\n",
       "      <td>7</td>\n",
       "      <td>3</td>\n",
       "    </tr>\n",
       "    <tr>\n",
       "      <th>14</th>\n",
       "      <td>Fulham FC</td>\n",
       "      <td>35</td>\n",
       "      <td>30</td>\n",
       "      <td>1.46</td>\n",
       "      <td>1.25</td>\n",
       "      <td>113</td>\n",
       "      <td>298</td>\n",
       "      <td>115</td>\n",
       "      <td>183</td>\n",
       "      <td>4.79</td>\n",
       "      <td>46</td>\n",
       "      <td>2306</td>\n",
       "      <td>1037</td>\n",
       "      <td>24</td>\n",
       "      <td>1</td>\n",
       "      <td>5</td>\n",
       "      <td>2</td>\n",
       "      <td>3</td>\n",
       "    </tr>\n",
       "    <tr>\n",
       "      <th>15</th>\n",
       "      <td>Brighton &amp; Hove Albion FC</td>\n",
       "      <td>39</td>\n",
       "      <td>29</td>\n",
       "      <td>1.77</td>\n",
       "      <td>1.32</td>\n",
       "      <td>137</td>\n",
       "      <td>334</td>\n",
       "      <td>143</td>\n",
       "      <td>191</td>\n",
       "      <td>6.50</td>\n",
       "      <td>59</td>\n",
       "      <td>2326</td>\n",
       "      <td>1233</td>\n",
       "      <td>22</td>\n",
       "      <td>2</td>\n",
       "      <td>2</td>\n",
       "      <td>5</td>\n",
       "      <td>5</td>\n",
       "    </tr>\n",
       "    <tr>\n",
       "      <th>16</th>\n",
       "      <td>Nottingham Forest FC</td>\n",
       "      <td>18</td>\n",
       "      <td>38</td>\n",
       "      <td>0.78</td>\n",
       "      <td>1.65</td>\n",
       "      <td>70</td>\n",
       "      <td>251</td>\n",
       "      <td>89</td>\n",
       "      <td>162</td>\n",
       "      <td>3.87</td>\n",
       "      <td>39</td>\n",
       "      <td>1879</td>\n",
       "      <td>844</td>\n",
       "      <td>23</td>\n",
       "      <td>2</td>\n",
       "      <td>4</td>\n",
       "      <td>0</td>\n",
       "      <td>4</td>\n",
       "    </tr>\n",
       "    <tr>\n",
       "      <th>17</th>\n",
       "      <td>Brentford FC</td>\n",
       "      <td>37</td>\n",
       "      <td>30</td>\n",
       "      <td>1.61</td>\n",
       "      <td>1.30</td>\n",
       "      <td>100</td>\n",
       "      <td>260</td>\n",
       "      <td>117</td>\n",
       "      <td>143</td>\n",
       "      <td>5.09</td>\n",
       "      <td>43</td>\n",
       "      <td>2055</td>\n",
       "      <td>984</td>\n",
       "      <td>23</td>\n",
       "      <td>3</td>\n",
       "      <td>4</td>\n",
       "      <td>1</td>\n",
       "      <td>5</td>\n",
       "    </tr>\n",
       "    <tr>\n",
       "      <th>18</th>\n",
       "      <td>Leeds United FC</td>\n",
       "      <td>28</td>\n",
       "      <td>39</td>\n",
       "      <td>1.22</td>\n",
       "      <td>1.70</td>\n",
       "      <td>121</td>\n",
       "      <td>299</td>\n",
       "      <td>114</td>\n",
       "      <td>185</td>\n",
       "      <td>4.96</td>\n",
       "      <td>50</td>\n",
       "      <td>2442</td>\n",
       "      <td>1123</td>\n",
       "      <td>23</td>\n",
       "      <td>3</td>\n",
       "      <td>5</td>\n",
       "      <td>5</td>\n",
       "      <td>1</td>\n",
       "    </tr>\n",
       "    <tr>\n",
       "      <th>19</th>\n",
       "      <td>Wolverhampton Wanderers FC</td>\n",
       "      <td>17</td>\n",
       "      <td>32</td>\n",
       "      <td>0.74</td>\n",
       "      <td>1.39</td>\n",
       "      <td>117</td>\n",
       "      <td>290</td>\n",
       "      <td>101</td>\n",
       "      <td>189</td>\n",
       "      <td>4.39</td>\n",
       "      <td>50</td>\n",
       "      <td>2092</td>\n",
       "      <td>1013</td>\n",
       "      <td>23</td>\n",
       "      <td>4</td>\n",
       "      <td>2</td>\n",
       "      <td>2</td>\n",
       "      <td>3</td>\n",
       "    </tr>\n",
       "  </tbody>\n",
       "</table>\n",
       "</div>"
      ],
      "text/plain": [
       "                          Team  Total Goals  Total Conceded  Avg Goals per 90  \\\n",
       "0                   Arsenal FC           51              23              2.22   \n",
       "1         Tottenham Hotspur FC           44              35              1.83   \n",
       "2           Manchester City FC           60              24              2.50   \n",
       "3            Leicester City FC           36              41              1.57   \n",
       "4            Crystal Palace FC           21              31              0.91   \n",
       "5                   Everton FC           17              30              0.74   \n",
       "6               Southampton FC           19              40              0.83   \n",
       "7              AFC Bournemouth           21              44              0.91   \n",
       "8         Manchester United FC           41              28              1.71   \n",
       "9                 Liverpool FC           38              28              1.73   \n",
       "10                  Chelsea FC           23              23              1.00   \n",
       "11          West Ham United FC           19              29              0.83   \n",
       "12         Newcastle United FC           35              15              1.52   \n",
       "13              Aston Villa FC           28              38              1.22   \n",
       "14                   Fulham FC           35              30              1.46   \n",
       "15   Brighton & Hove Albion FC           39              29              1.77   \n",
       "16        Nottingham Forest FC           18              38              0.78   \n",
       "17                Brentford FC           37              30              1.61   \n",
       "18             Leeds United FC           28              39              1.22   \n",
       "19  Wolverhampton Wanderers FC           17              32              0.74   \n",
       "\n",
       "    Avg conceded per 90  Total Corners  Total Shots  Total Shots on Target  \\\n",
       "0                  1.00            130          388                    142   \n",
       "1                  1.46            139          348                    149   \n",
       "2                  1.00            157          415                    166   \n",
       "3                  1.78             88          270                    117   \n",
       "4                  1.35            100          270                    108   \n",
       "5                  1.30            110          251                     97   \n",
       "6                  1.74             95          283                     99   \n",
       "7                  1.91             85          203                     96   \n",
       "8                  1.17            104          342                    146   \n",
       "9                  1.27            147          386                    152   \n",
       "10                 1.00            129          293                    115   \n",
       "11                 1.26            116          324                    104   \n",
       "12                 0.65            159          342                    138   \n",
       "13                 1.65             95          278                    114   \n",
       "14                 1.25            113          298                    115   \n",
       "15                 1.32            137          334                    143   \n",
       "16                 1.65             70          251                     89   \n",
       "17                 1.30            100          260                    117   \n",
       "18                 1.70            121          299                    114   \n",
       "19                 1.39            117          290                    101   \n",
       "\n",
       "    Avg Shots off Target  Avg Shots on Target  Avg possesion per 90  \\\n",
       "0                    246                 6.17                    59   \n",
       "1                    199                 6.21                    50   \n",
       "2                    249                 6.92                    65   \n",
       "3                    153                 5.09                    50   \n",
       "4                    162                 4.70                    44   \n",
       "5                    154                 4.22                    45   \n",
       "6                    184                 4.30                    44   \n",
       "7                    107                 4.17                    39   \n",
       "8                    196                 6.08                    54   \n",
       "9                    234                 6.91                    60   \n",
       "10                   178                 5.00                    59   \n",
       "11                   220                 4.52                    43   \n",
       "12                   204                 6.00                    52   \n",
       "13                   164                 4.96                    48   \n",
       "14                   183                 4.79                    46   \n",
       "15                   191                 6.50                    59   \n",
       "16                   162                 3.87                    39   \n",
       "17                   143                 5.09                    43   \n",
       "18                   185                 4.96                    50   \n",
       "19                   189                 4.39                    50   \n",
       "\n",
       "    Total Attacks  Total Dangerous Attacks  Matches  \\\n",
       "0            2669                     1533       23   \n",
       "1            2069                     1024       24   \n",
       "2            3113                     1586       24   \n",
       "3            2320                      906       23   \n",
       "4            2107                      950       23   \n",
       "5            2183                      926       23   \n",
       "6            2269                      989       23   \n",
       "7            1851                      819       23   \n",
       "8            2492                     1192       24   \n",
       "9            2562                     1271       22   \n",
       "10           2516                     1301       23   \n",
       "11           2154                     1042       23   \n",
       "12           2389                     1302       23   \n",
       "13           2209                      907       23   \n",
       "14           2306                     1037       24   \n",
       "15           2326                     1233       22   \n",
       "16           1879                      844       23   \n",
       "17           2055                      984       23   \n",
       "18           2442                     1123       23   \n",
       "19           2092                     1013       23   \n",
       "\n",
       "    goals_conceded_min_0_to_10  goals_conceded_min_11_to_20  \\\n",
       "0                            1                            1   \n",
       "1                            2                            6   \n",
       "2                            1                            2   \n",
       "3                            5                            3   \n",
       "4                            3                            3   \n",
       "5                            0                            3   \n",
       "6                            1                            3   \n",
       "7                            6                            4   \n",
       "8                            5                            2   \n",
       "9                            6                            4   \n",
       "10                           2                            1   \n",
       "11                           3                            3   \n",
       "12                           2                            1   \n",
       "13                           6                            4   \n",
       "14                           1                            5   \n",
       "15                           2                            2   \n",
       "16                           2                            4   \n",
       "17                           3                            4   \n",
       "18                           3                            5   \n",
       "19                           4                            2   \n",
       "\n",
       "    goals_scored_min_0_to_10  goals_scored_min_11_to_20  \n",
       "0                          4                          7  \n",
       "1                          2                          2  \n",
       "2                          4                          5  \n",
       "3                          6                          3  \n",
       "4                          3                          1  \n",
       "5                          2                          2  \n",
       "6                          2                          2  \n",
       "7                          3                          2  \n",
       "8                          1                          5  \n",
       "9                          5                          3  \n",
       "10                         1                          4  \n",
       "11                         0                          1  \n",
       "12                         3                          1  \n",
       "13                         7                          3  \n",
       "14                         2                          3  \n",
       "15                         5                          5  \n",
       "16                         0                          4  \n",
       "17                         1                          5  \n",
       "18                         5                          1  \n",
       "19                         2                          3  "
      ]
     },
     "execution_count": 61,
     "metadata": {},
     "output_type": "execute_result"
    }
   ],
   "source": [
    "#Collecting data of interest from API\n",
    "teams = []\n",
    "seasonGoals_overall = []\n",
    "seasonConceded_overall = []\n",
    "seasonScoredAVG_overall = []\n",
    "seasonConcededAVG_overall = []\n",
    "cornersTotal_overall =[]\n",
    "shotsTotal_overall = []\n",
    "shotsOnTargetTotal_overall = []\n",
    "shotsOffTargetTotal_overall = []\n",
    "shotsOnTargetAVG_overall = []\n",
    "possessionAVG_overall = []\n",
    "totalAttacks = []\n",
    "dangerousAttacks = []\n",
    "matchesPlayed = []\n",
    "goals_conceded_min_0_to_10 = []\n",
    "goals_conceded_min_11_to_20 = []\n",
    "goals_scored_min_0_to_10 = []\n",
    "goals_scored_min_11_to_20 = []\n",
    "\n",
    "for team in teams_info['data']:\n",
    "    teams.append(team['name'])\n",
    "    seasonGoals_overall.append(team['stats']['seasonGoals_overall'])\n",
    "    seasonConceded_overall.append(team['stats']['seasonConceded_overall'])\n",
    "    seasonScoredAVG_overall.append(team['stats']['seasonScoredAVG_overall'])\n",
    "    seasonConcededAVG_overall.append(team['stats']['seasonConcededAVG_overall'])\n",
    "    cornersTotal_overall.append(team['stats']['cornersTotal_overall'])\n",
    "    shotsTotal_overall.append(team['stats']['shotsTotal_overall'])\n",
    "    shotsOnTargetTotal_overall.append(team['stats']['shotsOnTargetTotal_overall'])\n",
    "    shotsOffTargetTotal_overall.append(team['stats']['shotsOffTargetTotal_overall'])\n",
    "    shotsOnTargetAVG_overall.append(team['stats']['shotsOnTargetAVG_overall'])\n",
    "    possessionAVG_overall.append(team['stats']['possessionAVG_overall'])\n",
    "    totalAttacks.append(team['stats']['attacks_num_overall'])\n",
    "    dangerousAttacks.append(team['stats']['dangerous_attacks_num_overall'])\n",
    "    matchesPlayed.append(team['stats']['attack_num_recoded_matches_overall'])\n",
    "    goals_conceded_min_0_to_10.append(team['stats']['goals_conceded_min_0_to_10'])\n",
    "    goals_conceded_min_11_to_20.append(team['stats']['goals_conceded_min_11_to_20'])\n",
    "    goals_scored_min_0_to_10.append(team['stats']['goals_scored_min_0_to_10'])\n",
    "    goals_scored_min_11_to_20.append(team['stats']['goals_scored_min_11_to_20'])\n",
    "    \n",
    "df = pd.DataFrame({'Team': teams, 'Total Goals': seasonGoals_overall, 'Total Conceded': seasonConceded_overall, 'Avg Goals per 90': seasonScoredAVG_overall\n",
    "                , 'Avg conceded per 90': seasonConcededAVG_overall, 'Total Corners': cornersTotal_overall, 'Total Shots': shotsTotal_overall\n",
    "                , 'Total Shots on Target': shotsOnTargetTotal_overall, 'Avg Shots off Target': shotsOffTargetTotal_overall, 'Avg Shots on Target': shotsOnTargetAVG_overall\n",
    "                , 'Avg possesion per 90': possessionAVG_overall, 'Total Attacks': totalAttacks, 'Total Dangerous Attacks': dangerousAttacks, 'Matches': matchesPlayed\n",
    "                , 'goals_conceded_min_0_to_10': goals_conceded_min_0_to_10, 'goals_conceded_min_11_to_20': goals_conceded_min_11_to_20, 'goals_scored_min_0_to_10':\n",
    "                  goals_scored_min_0_to_10, 'goals_scored_min_11_to_20': goals_scored_min_11_to_20},\n",
    "                columns=['Team', 'Total Goals', 'Total Conceded',  'Avg Goals per 90', 'Avg conceded per 90', 'Total Corners', 'Total Shots', 'Total Shots on Target',\n",
    "                        'Avg Shots off Target', 'Avg Shots on Target', 'Avg possesion per 90', 'Total Attacks', 'Total Dangerous Attacks', 'Matches', 'goals_conceded_min_0_to_10',\n",
    "                        'goals_conceded_min_11_to_20', 'goals_scored_min_0_to_10', 'goals_scored_min_11_to_20'])\n",
    "\n",
    "df"
   ]
  },
  {
   "cell_type": "code",
   "execution_count": 67,
   "id": "b674278f",
   "metadata": {},
   "outputs": [],
   "source": [
    "## Calculate shot conversion rates\n",
    "## Calculate goals scored/conceded in first 20 mins\n",
    "df['Shot Conversion Rate %'] = (df['Total Goals']/df['Total Shots on Target'])*100\n",
    "df['Goals Conceded first 20 mins'] = df['goals_conceded_min_0_to_10'] + df['goals_conceded_min_11_to_20']\n",
    "df['Goals Scored first 20 mins'] = df['goals_scored_min_0_to_10'] + df['goals_scored_min_11_to_20']"
   ]
  },
  {
   "cell_type": "code",
   "execution_count": 68,
   "id": "72474346",
   "metadata": {},
   "outputs": [
    {
     "data": {
      "text/html": [
       "<div>\n",
       "<style scoped>\n",
       "    .dataframe tbody tr th:only-of-type {\n",
       "        vertical-align: middle;\n",
       "    }\n",
       "\n",
       "    .dataframe tbody tr th {\n",
       "        vertical-align: top;\n",
       "    }\n",
       "\n",
       "    .dataframe thead th {\n",
       "        text-align: right;\n",
       "    }\n",
       "</style>\n",
       "<table border=\"1\" class=\"dataframe\">\n",
       "  <thead>\n",
       "    <tr style=\"text-align: right;\">\n",
       "      <th></th>\n",
       "      <th>Team</th>\n",
       "      <th>Total Goals</th>\n",
       "      <th>Total Conceded</th>\n",
       "      <th>Avg Goals per 90</th>\n",
       "      <th>Avg conceded per 90</th>\n",
       "      <th>Avg Shots off Target</th>\n",
       "      <th>Avg Shots on Target</th>\n",
       "      <th>Avg possesion per 90</th>\n",
       "      <th>Total Dangerous Attacks</th>\n",
       "      <th>Shot Conversion Rate %</th>\n",
       "      <th>Goals Conceded first 20 mins</th>\n",
       "      <th>Goals Scored first 20 mins</th>\n",
       "    </tr>\n",
       "  </thead>\n",
       "  <tbody>\n",
       "    <tr>\n",
       "      <th>0</th>\n",
       "      <td>Arsenal FC</td>\n",
       "      <td>51</td>\n",
       "      <td>23</td>\n",
       "      <td>2.22</td>\n",
       "      <td>1.00</td>\n",
       "      <td>246</td>\n",
       "      <td>6.17</td>\n",
       "      <td>59</td>\n",
       "      <td>1533</td>\n",
       "      <td>35.915493</td>\n",
       "      <td>2</td>\n",
       "      <td>11</td>\n",
       "    </tr>\n",
       "    <tr>\n",
       "      <th>1</th>\n",
       "      <td>Tottenham Hotspur FC</td>\n",
       "      <td>44</td>\n",
       "      <td>35</td>\n",
       "      <td>1.83</td>\n",
       "      <td>1.46</td>\n",
       "      <td>199</td>\n",
       "      <td>6.21</td>\n",
       "      <td>50</td>\n",
       "      <td>1024</td>\n",
       "      <td>29.530201</td>\n",
       "      <td>8</td>\n",
       "      <td>4</td>\n",
       "    </tr>\n",
       "    <tr>\n",
       "      <th>2</th>\n",
       "      <td>Manchester City FC</td>\n",
       "      <td>60</td>\n",
       "      <td>24</td>\n",
       "      <td>2.50</td>\n",
       "      <td>1.00</td>\n",
       "      <td>249</td>\n",
       "      <td>6.92</td>\n",
       "      <td>65</td>\n",
       "      <td>1586</td>\n",
       "      <td>36.144578</td>\n",
       "      <td>3</td>\n",
       "      <td>9</td>\n",
       "    </tr>\n",
       "    <tr>\n",
       "      <th>3</th>\n",
       "      <td>Leicester City FC</td>\n",
       "      <td>36</td>\n",
       "      <td>41</td>\n",
       "      <td>1.57</td>\n",
       "      <td>1.78</td>\n",
       "      <td>153</td>\n",
       "      <td>5.09</td>\n",
       "      <td>50</td>\n",
       "      <td>906</td>\n",
       "      <td>30.769231</td>\n",
       "      <td>8</td>\n",
       "      <td>9</td>\n",
       "    </tr>\n",
       "    <tr>\n",
       "      <th>4</th>\n",
       "      <td>Crystal Palace FC</td>\n",
       "      <td>21</td>\n",
       "      <td>31</td>\n",
       "      <td>0.91</td>\n",
       "      <td>1.35</td>\n",
       "      <td>162</td>\n",
       "      <td>4.70</td>\n",
       "      <td>44</td>\n",
       "      <td>950</td>\n",
       "      <td>19.444444</td>\n",
       "      <td>6</td>\n",
       "      <td>4</td>\n",
       "    </tr>\n",
       "    <tr>\n",
       "      <th>5</th>\n",
       "      <td>Everton FC</td>\n",
       "      <td>17</td>\n",
       "      <td>30</td>\n",
       "      <td>0.74</td>\n",
       "      <td>1.30</td>\n",
       "      <td>154</td>\n",
       "      <td>4.22</td>\n",
       "      <td>45</td>\n",
       "      <td>926</td>\n",
       "      <td>17.525773</td>\n",
       "      <td>3</td>\n",
       "      <td>4</td>\n",
       "    </tr>\n",
       "    <tr>\n",
       "      <th>6</th>\n",
       "      <td>Southampton FC</td>\n",
       "      <td>19</td>\n",
       "      <td>40</td>\n",
       "      <td>0.83</td>\n",
       "      <td>1.74</td>\n",
       "      <td>184</td>\n",
       "      <td>4.30</td>\n",
       "      <td>44</td>\n",
       "      <td>989</td>\n",
       "      <td>19.191919</td>\n",
       "      <td>4</td>\n",
       "      <td>4</td>\n",
       "    </tr>\n",
       "    <tr>\n",
       "      <th>7</th>\n",
       "      <td>AFC Bournemouth</td>\n",
       "      <td>21</td>\n",
       "      <td>44</td>\n",
       "      <td>0.91</td>\n",
       "      <td>1.91</td>\n",
       "      <td>107</td>\n",
       "      <td>4.17</td>\n",
       "      <td>39</td>\n",
       "      <td>819</td>\n",
       "      <td>21.875000</td>\n",
       "      <td>10</td>\n",
       "      <td>5</td>\n",
       "    </tr>\n",
       "    <tr>\n",
       "      <th>8</th>\n",
       "      <td>Manchester United FC</td>\n",
       "      <td>41</td>\n",
       "      <td>28</td>\n",
       "      <td>1.71</td>\n",
       "      <td>1.17</td>\n",
       "      <td>196</td>\n",
       "      <td>6.08</td>\n",
       "      <td>54</td>\n",
       "      <td>1192</td>\n",
       "      <td>28.082192</td>\n",
       "      <td>7</td>\n",
       "      <td>6</td>\n",
       "    </tr>\n",
       "    <tr>\n",
       "      <th>9</th>\n",
       "      <td>Liverpool FC</td>\n",
       "      <td>38</td>\n",
       "      <td>28</td>\n",
       "      <td>1.73</td>\n",
       "      <td>1.27</td>\n",
       "      <td>234</td>\n",
       "      <td>6.91</td>\n",
       "      <td>60</td>\n",
       "      <td>1271</td>\n",
       "      <td>25.000000</td>\n",
       "      <td>10</td>\n",
       "      <td>8</td>\n",
       "    </tr>\n",
       "    <tr>\n",
       "      <th>10</th>\n",
       "      <td>Chelsea FC</td>\n",
       "      <td>23</td>\n",
       "      <td>23</td>\n",
       "      <td>1.00</td>\n",
       "      <td>1.00</td>\n",
       "      <td>178</td>\n",
       "      <td>5.00</td>\n",
       "      <td>59</td>\n",
       "      <td>1301</td>\n",
       "      <td>20.000000</td>\n",
       "      <td>3</td>\n",
       "      <td>5</td>\n",
       "    </tr>\n",
       "    <tr>\n",
       "      <th>11</th>\n",
       "      <td>West Ham United FC</td>\n",
       "      <td>19</td>\n",
       "      <td>29</td>\n",
       "      <td>0.83</td>\n",
       "      <td>1.26</td>\n",
       "      <td>220</td>\n",
       "      <td>4.52</td>\n",
       "      <td>43</td>\n",
       "      <td>1042</td>\n",
       "      <td>18.269231</td>\n",
       "      <td>6</td>\n",
       "      <td>1</td>\n",
       "    </tr>\n",
       "    <tr>\n",
       "      <th>12</th>\n",
       "      <td>Newcastle United FC</td>\n",
       "      <td>35</td>\n",
       "      <td>15</td>\n",
       "      <td>1.52</td>\n",
       "      <td>0.65</td>\n",
       "      <td>204</td>\n",
       "      <td>6.00</td>\n",
       "      <td>52</td>\n",
       "      <td>1302</td>\n",
       "      <td>25.362319</td>\n",
       "      <td>3</td>\n",
       "      <td>4</td>\n",
       "    </tr>\n",
       "    <tr>\n",
       "      <th>13</th>\n",
       "      <td>Aston Villa FC</td>\n",
       "      <td>28</td>\n",
       "      <td>38</td>\n",
       "      <td>1.22</td>\n",
       "      <td>1.65</td>\n",
       "      <td>164</td>\n",
       "      <td>4.96</td>\n",
       "      <td>48</td>\n",
       "      <td>907</td>\n",
       "      <td>24.561404</td>\n",
       "      <td>10</td>\n",
       "      <td>10</td>\n",
       "    </tr>\n",
       "    <tr>\n",
       "      <th>14</th>\n",
       "      <td>Fulham FC</td>\n",
       "      <td>35</td>\n",
       "      <td>30</td>\n",
       "      <td>1.46</td>\n",
       "      <td>1.25</td>\n",
       "      <td>183</td>\n",
       "      <td>4.79</td>\n",
       "      <td>46</td>\n",
       "      <td>1037</td>\n",
       "      <td>30.434783</td>\n",
       "      <td>6</td>\n",
       "      <td>5</td>\n",
       "    </tr>\n",
       "    <tr>\n",
       "      <th>15</th>\n",
       "      <td>Brighton &amp; Hove Albion FC</td>\n",
       "      <td>39</td>\n",
       "      <td>29</td>\n",
       "      <td>1.77</td>\n",
       "      <td>1.32</td>\n",
       "      <td>191</td>\n",
       "      <td>6.50</td>\n",
       "      <td>59</td>\n",
       "      <td>1233</td>\n",
       "      <td>27.272727</td>\n",
       "      <td>4</td>\n",
       "      <td>10</td>\n",
       "    </tr>\n",
       "    <tr>\n",
       "      <th>16</th>\n",
       "      <td>Nottingham Forest FC</td>\n",
       "      <td>18</td>\n",
       "      <td>38</td>\n",
       "      <td>0.78</td>\n",
       "      <td>1.65</td>\n",
       "      <td>162</td>\n",
       "      <td>3.87</td>\n",
       "      <td>39</td>\n",
       "      <td>844</td>\n",
       "      <td>20.224719</td>\n",
       "      <td>6</td>\n",
       "      <td>4</td>\n",
       "    </tr>\n",
       "    <tr>\n",
       "      <th>17</th>\n",
       "      <td>Brentford FC</td>\n",
       "      <td>37</td>\n",
       "      <td>30</td>\n",
       "      <td>1.61</td>\n",
       "      <td>1.30</td>\n",
       "      <td>143</td>\n",
       "      <td>5.09</td>\n",
       "      <td>43</td>\n",
       "      <td>984</td>\n",
       "      <td>31.623932</td>\n",
       "      <td>7</td>\n",
       "      <td>6</td>\n",
       "    </tr>\n",
       "    <tr>\n",
       "      <th>18</th>\n",
       "      <td>Leeds United FC</td>\n",
       "      <td>28</td>\n",
       "      <td>39</td>\n",
       "      <td>1.22</td>\n",
       "      <td>1.70</td>\n",
       "      <td>185</td>\n",
       "      <td>4.96</td>\n",
       "      <td>50</td>\n",
       "      <td>1123</td>\n",
       "      <td>24.561404</td>\n",
       "      <td>8</td>\n",
       "      <td>6</td>\n",
       "    </tr>\n",
       "    <tr>\n",
       "      <th>19</th>\n",
       "      <td>Wolverhampton Wanderers FC</td>\n",
       "      <td>17</td>\n",
       "      <td>32</td>\n",
       "      <td>0.74</td>\n",
       "      <td>1.39</td>\n",
       "      <td>189</td>\n",
       "      <td>4.39</td>\n",
       "      <td>50</td>\n",
       "      <td>1013</td>\n",
       "      <td>16.831683</td>\n",
       "      <td>6</td>\n",
       "      <td>5</td>\n",
       "    </tr>\n",
       "  </tbody>\n",
       "</table>\n",
       "</div>"
      ],
      "text/plain": [
       "                          Team  Total Goals  Total Conceded  Avg Goals per 90  \\\n",
       "0                   Arsenal FC           51              23              2.22   \n",
       "1         Tottenham Hotspur FC           44              35              1.83   \n",
       "2           Manchester City FC           60              24              2.50   \n",
       "3            Leicester City FC           36              41              1.57   \n",
       "4            Crystal Palace FC           21              31              0.91   \n",
       "5                   Everton FC           17              30              0.74   \n",
       "6               Southampton FC           19              40              0.83   \n",
       "7              AFC Bournemouth           21              44              0.91   \n",
       "8         Manchester United FC           41              28              1.71   \n",
       "9                 Liverpool FC           38              28              1.73   \n",
       "10                  Chelsea FC           23              23              1.00   \n",
       "11          West Ham United FC           19              29              0.83   \n",
       "12         Newcastle United FC           35              15              1.52   \n",
       "13              Aston Villa FC           28              38              1.22   \n",
       "14                   Fulham FC           35              30              1.46   \n",
       "15   Brighton & Hove Albion FC           39              29              1.77   \n",
       "16        Nottingham Forest FC           18              38              0.78   \n",
       "17                Brentford FC           37              30              1.61   \n",
       "18             Leeds United FC           28              39              1.22   \n",
       "19  Wolverhampton Wanderers FC           17              32              0.74   \n",
       "\n",
       "    Avg conceded per 90  Avg Shots off Target  Avg Shots on Target  \\\n",
       "0                  1.00                   246                 6.17   \n",
       "1                  1.46                   199                 6.21   \n",
       "2                  1.00                   249                 6.92   \n",
       "3                  1.78                   153                 5.09   \n",
       "4                  1.35                   162                 4.70   \n",
       "5                  1.30                   154                 4.22   \n",
       "6                  1.74                   184                 4.30   \n",
       "7                  1.91                   107                 4.17   \n",
       "8                  1.17                   196                 6.08   \n",
       "9                  1.27                   234                 6.91   \n",
       "10                 1.00                   178                 5.00   \n",
       "11                 1.26                   220                 4.52   \n",
       "12                 0.65                   204                 6.00   \n",
       "13                 1.65                   164                 4.96   \n",
       "14                 1.25                   183                 4.79   \n",
       "15                 1.32                   191                 6.50   \n",
       "16                 1.65                   162                 3.87   \n",
       "17                 1.30                   143                 5.09   \n",
       "18                 1.70                   185                 4.96   \n",
       "19                 1.39                   189                 4.39   \n",
       "\n",
       "    Avg possesion per 90  Total Dangerous Attacks  Shot Conversion Rate %  \\\n",
       "0                     59                     1533               35.915493   \n",
       "1                     50                     1024               29.530201   \n",
       "2                     65                     1586               36.144578   \n",
       "3                     50                      906               30.769231   \n",
       "4                     44                      950               19.444444   \n",
       "5                     45                      926               17.525773   \n",
       "6                     44                      989               19.191919   \n",
       "7                     39                      819               21.875000   \n",
       "8                     54                     1192               28.082192   \n",
       "9                     60                     1271               25.000000   \n",
       "10                    59                     1301               20.000000   \n",
       "11                    43                     1042               18.269231   \n",
       "12                    52                     1302               25.362319   \n",
       "13                    48                      907               24.561404   \n",
       "14                    46                     1037               30.434783   \n",
       "15                    59                     1233               27.272727   \n",
       "16                    39                      844               20.224719   \n",
       "17                    43                      984               31.623932   \n",
       "18                    50                     1123               24.561404   \n",
       "19                    50                     1013               16.831683   \n",
       "\n",
       "    Goals Conceded first 20 mins  Goals Scored first 20 mins  \n",
       "0                              2                          11  \n",
       "1                              8                           4  \n",
       "2                              3                           9  \n",
       "3                              8                           9  \n",
       "4                              6                           4  \n",
       "5                              3                           4  \n",
       "6                              4                           4  \n",
       "7                             10                           5  \n",
       "8                              7                           6  \n",
       "9                             10                           8  \n",
       "10                             3                           5  \n",
       "11                             6                           1  \n",
       "12                             3                           4  \n",
       "13                            10                          10  \n",
       "14                             6                           5  \n",
       "15                             4                          10  \n",
       "16                             6                           4  \n",
       "17                             7                           6  \n",
       "18                             8                           6  \n",
       "19                             6                           5  "
      ]
     },
     "execution_count": 68,
     "metadata": {},
     "output_type": "execute_result"
    }
   ],
   "source": [
    "#Filtering columns of interest from initial database\n",
    "df2 = df[['Team', 'Total Goals', 'Total Conceded', 'Avg Goals per 90', 'Avg conceded per 90', 'Avg Shots off Target', \n",
    "          'Avg Shots on Target', 'Avg possesion per 90', 'Total Dangerous Attacks', 'Shot Conversion Rate %', 'Goals Conceded first 20 mins', 'Goals Scored first 20 mins' ]].copy()\n",
    "df2\n"
   ]
  },
  {
   "cell_type": "code",
   "execution_count": 64,
   "id": "763ca8d1",
   "metadata": {},
   "outputs": [
    {
     "data": {
      "image/png": "[encoded data removed]",
      "text/plain": [
       "<Figure size 1080x360 with 1 Axes>"
      ]
     },
     "metadata": {},
     "output_type": "display_data"
    }
   ],
   "source": [
    "plt.style.use(\"dark_background\")\n",
    "fig, ax = plt.subplots(1,1, figsize = (15,5))\n",
    "plt.grid(False)\n",
    "#extract the labels\n",
    "label = df2[\"Team\"]\n",
    "#use this to create x ticks to add the data to\n",
    "x = np.arange(len(label))\n",
    "#set a width for each bar \n",
    "width = 0.35\n",
    "#create out first bar\n",
    "#set it so that x will be the centre of the bars\n",
    "#so that we can add our labels later\n",
    "#so set the centre of the first to be 1/2 width away\n",
    "#to the left\n",
    "rect1 = ax.bar(x - width/2,\n",
    "              df2['Total Goals'],\n",
    "              width = width, \n",
    "               label = 'Goals',\n",
    "               edgecolor = \"black\",\n",
    "               color = '#62BBC1')\n",
    "#create the second bar\n",
    "#with a centre half a width to the right\n",
    "rect2 = ax.bar(x + width/2,\n",
    "              df2['Total Conceded'],\n",
    "              width = width,\n",
    "              label = 'Conceded',\n",
    "              edgecolor = \"black\",\n",
    "              color='#F0F3BD')\n",
    "\n",
    "\n",
    "\n",
    "\n",
    "#add the labels to the axis\n",
    "ax.set_ylabel(\"Total Goals/Conceded\",\n",
    "             fontsize = 20,\n",
    "             labelpad = 20)\n",
    "ax.set_xlabel(\"Teams\",\n",
    "             fontsize = 20,\n",
    "             labelpad =20)\n",
    "ax.set_title(\"Total Goals/Total Conceded per Team\",\n",
    "            fontsize = 30,\n",
    "            pad = 20)\n",
    "#set the ticks\n",
    "ax.set_xticks(x)\n",
    "ax.set_xticklabels(label)\n",
    "#add the legend\n",
    "#using the labels of the bars\n",
    "ax.legend(fontsize = 16,\n",
    "         title_fontsize = 20)\n",
    "#adjust the tick paramaters\n",
    "ax.tick_params(axis = \"x\",\n",
    "              which = \"both\",\n",
    "              labelrotation = 90)\n",
    "ax.tick_params(axis = \"y\",\n",
    "              which = \"both\",\n",
    "              labelsize = 15)\n",
    "\n"
   ]
  },
  {
   "cell_type": "code",
   "execution_count": 65,
   "id": "d5daf2c6",
   "metadata": {},
   "outputs": [
    {
     "data": {
      "text/plain": [
       "([<matplotlib.axis.YTick at 0x7fa8c506e190>,\n",
       "  <matplotlib.axis.YTick at 0x7fa8c50659d0>,\n",
       "  <matplotlib.axis.YTick at 0x7fa8c505ca60>,\n",
       "  <matplotlib.axis.YTick at 0x7fa8c50cbb20>],\n",
       " [Text(0, 10, '10%'),\n",
       "  Text(0, 20, '20%'),\n",
       "  Text(0, 30, '30%'),\n",
       "  Text(0, 40, '40%')])"
      ]
     },
     "execution_count": 65,
     "metadata": {},
     "output_type": "execute_result"
    },
    {
     "data": {
      "image/png": "[encoded data removed]",
      "text/plain": [
       "<Figure size 720x432 with 1 Axes>"
      ]
     },
     "metadata": {},
     "output_type": "display_data"
    }
   ],
   "source": [
    "plt.figure(figsize=(10,6))\n",
    "plt.grid(False)\n",
    "plt.scatter(df2['Avg Shots on Target'], df2['Shot Conversion Rate %'], s=10)\n",
    "\n",
    "for x,y,z in zip(df2['Avg Shots on Target'],df2['Shot Conversion Rate %'], df2['Team']):\n",
    "    if z == 'Leeds United FC':\n",
    "            plt.text(x,y,z,va='top', ha='center', fontsize=8)\n",
    "    else:\n",
    "        plt.text(x,y,z,va='bottom', ha='center', fontsize=8)\n",
    "        \n",
    "plt.xlabel('Shots/90 minutes')\n",
    "plt.ylabel('Shot conversion rate %')\n",
    "plt.title('Shooting Efficiency for Premier League Teams - 2022/2023 Season')\n",
    "plt.yticks([10,20,30,40], ['10%','20%','30%','40%'])\n"
   ]
  },
  {
   "cell_type": "code",
   "execution_count": 49,
   "id": "949a1140",
   "metadata": {},
   "outputs": [
    {
     "data": {
      "application/vnd.plotly.v1+json": {
       "config": {
        "plotlyServerURL": "https://plot.ly"
       },
       "data": [
        {
         "marker": {
          "color": "#221f1f"
         },
         "orientation": "h",
         "showlegend": false,
         "text": [
          "11",
          "4",
          "9",
          "9",
          "4",
          "4",
          "4",
          "5",
          "6",
          "8",
          "5",
          "1",
          "4",
          "10",
          "5",
          "10",
          "4",
          "6",
          "6",
          "5"
         ],
         "textposition": "inside",
         "type": "bar",
         "width": 0.7,
         "x": [
          11,
          4,
          9,
          9,
          4,
          4,
          4,
          5,
          6,
          8,
          5,
          1,
          4,
          10,
          5,
          10,
          4,
          6,
          6,
          5
         ],
         "xaxis": "x",
         "y": [
          "Arsenal FC",
          "Tottenham Hotspur FC",
          "Manchester City FC",
          "Leicester City FC",
          "Crystal Palace FC",
          "Everton FC",
          "Southampton FC",
          "AFC Bournemouth",
          "Manchester United FC",
          "Liverpool FC",
          "Chelsea FC",
          "West Ham United FC",
          "Newcastle United FC",
          "Aston Villa FC",
          "Fulham FC",
          "Brighton & Hove Albion FC",
          "Nottingham Forest FC",
          "Brentford FC",
          "Leeds United FC",
          "Wolverhampton Wanderers FC"
         ],
         "yaxis": "y"
        },
        {
         "marker": {
          "color": "#b20710"
         },
         "orientation": "h",
         "showlegend": false,
         "text": [
          "2",
          "8",
          "3",
          "8",
          "6",
          "3",
          "4",
          "10",
          "7",
          "10",
          "3",
          "6",
          "3",
          "10",
          "6",
          "4",
          "6",
          "7",
          "8",
          "6"
         ],
         "textposition": "inside",
         "type": "bar",
         "width": 0.7,
         "x": [
          2,
          8,
          3,
          8,
          6,
          3,
          4,
          10,
          7,
          10,
          3,
          6,
          3,
          10,
          6,
          4,
          6,
          7,
          8,
          6
         ],
         "xaxis": "x2",
         "y": [
          "Arsenal FC",
          "Tottenham Hotspur FC",
          "Manchester City FC",
          "Leicester City FC",
          "Crystal Palace FC",
          "Everton FC",
          "Southampton FC",
          "AFC Bournemouth",
          "Manchester United FC",
          "Liverpool FC",
          "Chelsea FC",
          "West Ham United FC",
          "Newcastle United FC",
          "Aston Villa FC",
          "Fulham FC",
          "Brighton & Hove Albion FC",
          "Nottingham Forest FC",
          "Brentford FC",
          "Leeds United FC",
          "Wolverhampton Wanderers FC"
         ],
         "yaxis": "y2"
        }
       ],
       "layout": {
        "font": {
         "color": "#8a8d93"
        },
        "height": 700,
        "paper_bgcolor": "#333",
        "plot_bgcolor": "#333",
        "template": {
         "data": {
          "bar": [
           {
            "error_x": {
             "color": "#2a3f5f"
            },
            "error_y": {
             "color": "#2a3f5f"
            },
            "marker": {
             "line": {
              "color": "#E5ECF6",
              "width": 0.5
             },
             "pattern": {
              "fillmode": "overlay",
              "size": 10,
              "solidity": 0.2
             }
            },
            "type": "bar"
           }
          ],
          "barpolar": [
           {
            "marker": {
             "line": {
              "color": "#E5ECF6",
              "width": 0.5
             },
             "pattern": {
              "fillmode": "overlay",
              "size": 10,
              "solidity": 0.2
             }
            },
            "type": "barpolar"
           }
          ],
          "carpet": [
           {
            "aaxis": {
             "endlinecolor": "#2a3f5f",
             "gridcolor": "white",
             "linecolor": "white",
             "minorgridcolor": "white",
             "startlinecolor": "#2a3f5f"
            },
            "baxis": {
             "endlinecolor": "#2a3f5f",
             "gridcolor": "white",
             "linecolor": "white",
             "minorgridcolor": "white",
             "startlinecolor": "#2a3f5f"
            },
            "type": "carpet"
           }
          ],
          "choropleth": [
           {
            "colorbar": {
             "outlinewidth": 0,
             "ticks": ""
            },
            "type": "choropleth"
           }
          ],
          "contour": [
           {
            "colorbar": {
             "outlinewidth": 0,
             "ticks": ""
            },
            "colorscale": [
             [
              0,
              "#0d0887"
             ],
             [
              0.1111111111111111,
              "#46039f"
             ],
             [
              0.2222222222222222,
              "#7201a8"
             ],
             [
              0.3333333333333333,
              "#9c179e"
             ],
             [
              0.4444444444444444,
              "#bd3786"
             ],
             [
              0.5555555555555556,
              "#d8576b"
             ],
             [
              0.6666666666666666,
              "#ed7953"
             ],
             [
              0.7777777777777778,
              "#fb9f3a"
             ],
             [
              0.8888888888888888,
              "#fdca26"
             ],
             [
              1,
              "#f0f921"
             ]
            ],
            "type": "contour"
           }
          ],
          "contourcarpet": [
           {
            "colorbar": {
             "outlinewidth": 0,
             "ticks": ""
            },
            "type": "contourcarpet"
           }
          ],
          "heatmap": [
           {
            "colorbar": {
             "outlinewidth": 0,
             "ticks": ""
            },
            "colorscale": [
             [
              0,
              "#0d0887"
             ],
             [
              0.1111111111111111,
              "#46039f"
             ],
             [
              0.2222222222222222,
              "#7201a8"
             ],
             [
              0.3333333333333333,
              "#9c179e"
             ],
             [
              0.4444444444444444,
              "#bd3786"
             ],
             [
              0.5555555555555556,
              "#d8576b"
             ],
             [
              0.6666666666666666,
              "#ed7953"
             ],
             [
              0.7777777777777778,
              "#fb9f3a"
             ],
             [
              0.8888888888888888,
              "#fdca26"
             ],
             [
              1,
              "#f0f921"
             ]
            ],
            "type": "heatmap"
           }
          ],
          "heatmapgl": [
           {
            "colorbar": {
             "outlinewidth": 0,
             "ticks": ""
            },
            "colorscale": [
             [
              0,
              "#0d0887"
             ],
             [
              0.1111111111111111,
              "#46039f"
             ],
             [
              0.2222222222222222,
              "#7201a8"
             ],
             [
              0.3333333333333333,
              "#9c179e"
             ],
             [
              0.4444444444444444,
              "#bd3786"
             ],
             [
              0.5555555555555556,
              "#d8576b"
             ],
             [
              0.6666666666666666,
              "#ed7953"
             ],
             [
              0.7777777777777778,
              "#fb9f3a"
             ],
             [
              0.8888888888888888,
              "#fdca26"
             ],
             [
              1,
              "#f0f921"
             ]
            ],
            "type": "heatmapgl"
           }
          ],
          "histogram": [
           {
            "marker": {
             "pattern": {
              "fillmode": "overlay",
              "size": 10,
              "solidity": 0.2
             }
            },
            "type": "histogram"
           }
          ],
          "histogram2d": [
           {
            "colorbar": {
             "outlinewidth": 0,
             "ticks": ""
            },
            "colorscale": [
             [
              0,
              "#0d0887"
             ],
             [
              0.1111111111111111,
              "#46039f"
             ],
             [
              0.2222222222222222,
              "#7201a8"
             ],
             [
              0.3333333333333333,
              "#9c179e"
             ],
             [
              0.4444444444444444,
              "#bd3786"
             ],
             [
              0.5555555555555556,
              "#d8576b"
             ],
             [
              0.6666666666666666,
              "#ed7953"
             ],
             [
              0.7777777777777778,
              "#fb9f3a"
             ],
             [
              0.8888888888888888,
              "#fdca26"
             ],
             [
              1,
              "#f0f921"
             ]
            ],
            "type": "histogram2d"
           }
          ],
          "histogram2dcontour": [
           {
            "colorbar": {
             "outlinewidth": 0,
             "ticks": ""
            },
            "colorscale": [
             [
              0,
              "#0d0887"
             ],
             [
              0.1111111111111111,
              "#46039f"
             ],
             [
              0.2222222222222222,
              "#7201a8"
             ],
             [
              0.3333333333333333,
              "#9c179e"
             ],
             [
              0.4444444444444444,
              "#bd3786"
             ],
             [
              0.5555555555555556,
              "#d8576b"
             ],
             [
              0.6666666666666666,
              "#ed7953"
             ],
             [
              0.7777777777777778,
              "#fb9f3a"
             ],
             [
              0.8888888888888888,
              "#fdca26"
             ],
             [
              1,
              "#f0f921"
             ]
            ],
            "type": "histogram2dcontour"
           }
          ],
          "mesh3d": [
           {
            "colorbar": {
             "outlinewidth": 0,
             "ticks": ""
            },
            "type": "mesh3d"
           }
          ],
          "parcoords": [
           {
            "line": {
             "colorbar": {
              "outlinewidth": 0,
              "ticks": ""
             }
            },
            "type": "parcoords"
           }
          ],
          "pie": [
           {
            "automargin": true,
            "type": "pie"
           }
          ],
          "scatter": [
           {
            "marker": {
             "colorbar": {
              "outlinewidth": 0,
              "ticks": ""
             }
            },
            "type": "scatter"
           }
          ],
          "scatter3d": [
           {
            "line": {
             "colorbar": {
              "outlinewidth": 0,
              "ticks": ""
             }
            },
            "marker": {
             "colorbar": {
              "outlinewidth": 0,
              "ticks": ""
             }
            },
            "type": "scatter3d"
           }
          ],
          "scattercarpet": [
           {
            "marker": {
             "colorbar": {
              "outlinewidth": 0,
              "ticks": ""
             }
            },
            "type": "scattercarpet"
           }
          ],
          "scattergeo": [
           {
            "marker": {
             "colorbar": {
              "outlinewidth": 0,
              "ticks": ""
             }
            },
            "type": "scattergeo"
           }
          ],
          "scattergl": [
           {
            "marker": {
             "colorbar": {
              "outlinewidth": 0,
              "ticks": ""
             }
            },
            "type": "scattergl"
           }
          ],
          "scattermapbox": [
           {
            "marker": {
             "colorbar": {
              "outlinewidth": 0,
              "ticks": ""
             }
            },
            "type": "scattermapbox"
           }
          ],
          "scatterpolar": [
           {
            "marker": {
             "colorbar": {
              "outlinewidth": 0,
              "ticks": ""
             }
            },
            "type": "scatterpolar"
           }
          ],
          "scatterpolargl": [
           {
            "marker": {
             "colorbar": {
              "outlinewidth": 0,
              "ticks": ""
             }
            },
            "type": "scatterpolargl"
           }
          ],
          "scatterternary": [
           {
            "marker": {
             "colorbar": {
              "outlinewidth": 0,
              "ticks": ""
             }
            },
            "type": "scatterternary"
           }
          ],
          "surface": [
           {
            "colorbar": {
             "outlinewidth": 0,
             "ticks": ""
            },
            "colorscale": [
             [
              0,
              "#0d0887"
             ],
             [
              0.1111111111111111,
              "#46039f"
             ],
             [
              0.2222222222222222,
              "#7201a8"
             ],
             [
              0.3333333333333333,
              "#9c179e"
             ],
             [
              0.4444444444444444,
              "#bd3786"
             ],
             [
              0.5555555555555556,
              "#d8576b"
             ],
             [
              0.6666666666666666,
              "#ed7953"
             ],
             [
              0.7777777777777778,
              "#fb9f3a"
             ],
             [
              0.8888888888888888,
              "#fdca26"
             ],
             [
              1,
              "#f0f921"
             ]
            ],
            "type": "surface"
           }
          ],
          "table": [
           {
            "cells": {
             "fill": {
              "color": "#EBF0F8"
             },
             "line": {
              "color": "white"
             }
            },
            "header": {
             "fill": {
              "color": "#C8D4E3"
             },
             "line": {
              "color": "white"
             }
            },
            "type": "table"
           }
          ]
         },
         "layout": {
          "annotationdefaults": {
           "arrowcolor": "#2a3f5f",
           "arrowhead": 0,
           "arrowwidth": 1
          },
          "autotypenumbers": "strict",
          "coloraxis": {
           "colorbar": {
            "outlinewidth": 0,
            "ticks": ""
           }
          },
          "colorscale": {
           "diverging": [
            [
             0,
             "#8e0152"
            ],
            [
             0.1,
             "#c51b7d"
            ],
            [
             0.2,
             "#de77ae"
            ],
            [
             0.3,
             "#f1b6da"
            ],
            [
             0.4,
             "#fde0ef"
            ],
            [
             0.5,
             "#f7f7f7"
            ],
            [
             0.6,
             "#e6f5d0"
            ],
            [
             0.7,
             "#b8e186"
            ],
            [
             0.8,
             "#7fbc41"
            ],
            [
             0.9,
             "#4d9221"
            ],
            [
             1,
             "#276419"
            ]
           ],
           "sequential": [
            [
             0,
             "#0d0887"
            ],
            [
             0.1111111111111111,
             "#46039f"
            ],
            [
             0.2222222222222222,
             "#7201a8"
            ],
            [
             0.3333333333333333,
             "#9c179e"
            ],
            [
             0.4444444444444444,
             "#bd3786"
            ],
            [
             0.5555555555555556,
             "#d8576b"
            ],
            [
             0.6666666666666666,
             "#ed7953"
            ],
            [
             0.7777777777777778,
             "#fb9f3a"
            ],
            [
             0.8888888888888888,
             "#fdca26"
            ],
            [
             1,
             "#f0f921"
            ]
           ],
           "sequentialminus": [
            [
             0,
             "#0d0887"
            ],
            [
             0.1111111111111111,
             "#46039f"
            ],
            [
             0.2222222222222222,
             "#7201a8"
            ],
            [
             0.3333333333333333,
             "#9c179e"
            ],
            [
             0.4444444444444444,
             "#bd3786"
            ],
            [
             0.5555555555555556,
             "#d8576b"
            ],
            [
             0.6666666666666666,
             "#ed7953"
            ],
            [
             0.7777777777777778,
             "#fb9f3a"
            ],
            [
             0.8888888888888888,
             "#fdca26"
            ],
            [
             1,
             "#f0f921"
            ]
           ]
          },
          "colorway": [
           "#636efa",
           "#EF553B",
           "#00cc96",
           "#ab63fa",
           "#FFA15A",
           "#19d3f3",
           "#FF6692",
           "#B6E880",
           "#FF97FF",
           "#FECB52"
          ],
          "font": {
           "color": "#2a3f5f"
          },
          "geo": {
           "bgcolor": "white",
           "lakecolor": "white",
           "landcolor": "#E5ECF6",
           "showlakes": true,
           "showland": true,
           "subunitcolor": "white"
          },
          "hoverlabel": {
           "align": "left"
          },
          "hovermode": "closest",
          "mapbox": {
           "style": "light"
          },
          "paper_bgcolor": "white",
          "plot_bgcolor": "#E5ECF6",
          "polar": {
           "angularaxis": {
            "gridcolor": "white",
            "linecolor": "white",
            "ticks": ""
           },
           "bgcolor": "#E5ECF6",
           "radialaxis": {
            "gridcolor": "white",
            "linecolor": "white",
            "ticks": ""
           }
          },
          "scene": {
           "xaxis": {
            "backgroundcolor": "#E5ECF6",
            "gridcolor": "white",
            "gridwidth": 2,
            "linecolor": "white",
            "showbackground": true,
            "ticks": "",
            "zerolinecolor": "white"
           },
           "yaxis": {
            "backgroundcolor": "#E5ECF6",
            "gridcolor": "white",
            "gridwidth": 2,
            "linecolor": "white",
            "showbackground": true,
            "ticks": "",
            "zerolinecolor": "white"
           },
           "zaxis": {
            "backgroundcolor": "#E5ECF6",
            "gridcolor": "white",
            "gridwidth": 2,
            "linecolor": "white",
            "showbackground": true,
            "ticks": "",
            "zerolinecolor": "white"
           }
          },
          "shapedefaults": {
           "line": {
            "color": "#2a3f5f"
           }
          },
          "ternary": {
           "aaxis": {
            "gridcolor": "white",
            "linecolor": "white",
            "ticks": ""
           },
           "baxis": {
            "gridcolor": "white",
            "linecolor": "white",
            "ticks": ""
           },
           "bgcolor": "#E5ECF6",
           "caxis": {
            "gridcolor": "white",
            "linecolor": "white",
            "ticks": ""
           }
          },
          "title": {
           "x": 0.05
          },
          "xaxis": {
           "automargin": true,
           "gridcolor": "white",
           "linecolor": "white",
           "ticks": "",
           "title": {
            "standoff": 15
           },
           "zerolinecolor": "white",
           "zerolinewidth": 2
          },
          "yaxis": {
           "automargin": true,
           "gridcolor": "white",
           "linecolor": "white",
           "ticks": "",
           "title": {
            "standoff": 15
           },
           "zerolinecolor": "white",
           "zerolinewidth": 2
          }
         }
        },
        "title": {
         "font": {
          "color": "#8a8d93",
          "family": "Lato, sans-serif",
          "size": 25
         },
         "text": "How teams perfom in the first 20 mins?",
         "x": 0.9
        },
        "width": 800,
        "xaxis": {
         "anchor": "y",
         "domain": [
          0,
          0.5
         ],
         "range": [
          15,
          0
         ],
         "showgrid": false,
         "showticklabels": false,
         "side": "top",
         "title": {
          "text": "Goals Scored in the first 20 mins"
         }
        },
        "xaxis2": {
         "anchor": "y2",
         "domain": [
          0.5,
          1
         ],
         "range": [
          0,
          15
         ],
         "showgrid": false,
         "showticklabels": false,
         "side": "top",
         "title": {
          "text": "Goals Conceded in the first 20 mins"
         }
        },
        "yaxis": {
         "anchor": "x",
         "categoryorder": "total ascending",
         "domain": [
          0,
          1
         ],
         "showgrid": false,
         "showline": false,
         "ticksuffix": " "
        },
        "yaxis2": {
         "anchor": "x2",
         "categoryorder": "total ascending",
         "domain": [
          0,
          1
         ],
         "matches": "y",
         "showgrid": false,
         "showline": false,
         "showticklabels": false,
         "ticksuffix": " "
        }
       }
      },
      "text/html": [
       "<div>                            <div id=\"be2b7887-dd23-412a-9023-d0ea8bebaa87\" class=\"plotly-graph-div\" style=\"height:700px; width:800px;\"></div>            <script type=\"text/javascript\">                require([\"plotly\"], function(Plotly) {                    window.PLOTLYENV=window.PLOTLYENV || {};                                    if (document.getElementById(\"be2b7887-dd23-412a-9023-d0ea8bebaa87\")) {                    Plotly.newPlot(                        \"be2b7887-dd23-412a-9023-d0ea8bebaa87\",                        [{\"marker\":{\"color\":\"#221f1f\"},\"orientation\":\"h\",\"showlegend\":false,\"text\":[\"11\",\"4\",\"9\",\"9\",\"4\",\"4\",\"4\",\"5\",\"6\",\"8\",\"5\",\"1\",\"4\",\"10\",\"5\",\"10\",\"4\",\"6\",\"6\",\"5\"],\"textposition\":\"inside\",\"width\":0.7,\"x\":[11,4,9,9,4,4,4,5,6,8,5,1,4,10,5,10,4,6,6,5],\"y\":[\"Arsenal FC\",\"Tottenham Hotspur FC\",\"Manchester City FC\",\"Leicester City FC\",\"Crystal Palace FC\",\"Everton FC\",\"Southampton FC\",\"AFC Bournemouth\",\"Manchester United FC\",\"Liverpool FC\",\"Chelsea FC\",\"West Ham United FC\",\"Newcastle United FC\",\"Aston Villa FC\",\"Fulham FC\",\"Brighton & Hove Albion FC\",\"Nottingham Forest FC\",\"Brentford FC\",\"Leeds United FC\",\"Wolverhampton Wanderers FC\"],\"type\":\"bar\",\"xaxis\":\"x\",\"yaxis\":\"y\"},{\"marker\":{\"color\":\"#b20710\"},\"orientation\":\"h\",\"showlegend\":false,\"text\":[\"2\",\"8\",\"3\",\"8\",\"6\",\"3\",\"4\",\"10\",\"7\",\"10\",\"3\",\"6\",\"3\",\"10\",\"6\",\"4\",\"6\",\"7\",\"8\",\"6\"],\"textposition\":\"inside\",\"width\":0.7,\"x\":[2,8,3,8,6,3,4,10,7,10,3,6,3,10,6,4,6,7,8,6],\"y\":[\"Arsenal FC\",\"Tottenham Hotspur FC\",\"Manchester City FC\",\"Leicester City FC\",\"Crystal Palace FC\",\"Everton FC\",\"Southampton FC\",\"AFC Bournemouth\",\"Manchester United FC\",\"Liverpool FC\",\"Chelsea FC\",\"West Ham United FC\",\"Newcastle United FC\",\"Aston Villa FC\",\"Fulham FC\",\"Brighton & Hove Albion FC\",\"Nottingham Forest FC\",\"Brentford FC\",\"Leeds United FC\",\"Wolverhampton Wanderers FC\"],\"type\":\"bar\",\"xaxis\":\"x2\",\"yaxis\":\"y2\"}],                        {\"template\":{\"data\":{\"bar\":[{\"error_x\":{\"color\":\"#2a3f5f\"},\"error_y\":{\"color\":\"#2a3f5f\"},\"marker\":{\"line\":{\"color\":\"#E5ECF6\",\"width\":0.5},\"pattern\":{\"fillmode\":\"overlay\",\"size\":10,\"solidity\":0.2}},\"type\":\"bar\"}],\"barpolar\":[{\"marker\":{\"line\":{\"color\":\"#E5ECF6\",\"width\":0.5},\"pattern\":{\"fillmode\":\"overlay\",\"size\":10,\"solidity\":0.2}},\"type\":\"barpolar\"}],\"carpet\":[{\"aaxis\":{\"endlinecolor\":\"#2a3f5f\",\"gridcolor\":\"white\",\"linecolor\":\"white\",\"minorgridcolor\":\"white\",\"startlinecolor\":\"#2a3f5f\"},\"baxis\":{\"endlinecolor\":\"#2a3f5f\",\"gridcolor\":\"white\",\"linecolor\":\"white\",\"minorgridcolor\":\"white\",\"startlinecolor\":\"#2a3f5f\"},\"type\":\"carpet\"}],\"choropleth\":[{\"colorbar\":{\"outlinewidth\":0,\"ticks\":\"\"},\"type\":\"choropleth\"}],\"contour\":[{\"colorbar\":{\"outlinewidth\":0,\"ticks\":\"\"},\"colorscale\":[[0.0,\"#0d0887\"],[0.1111111111111111,\"#46039f\"],[0.2222222222222222,\"#7201a8\"],[0.3333333333333333,\"#9c179e\"],[0.4444444444444444,\"#bd3786\"],[0.5555555555555556,\"#d8576b\"],[0.6666666666666666,\"#ed7953\"],[0.7777777777777778,\"#fb9f3a\"],[0.8888888888888888,\"#fdca26\"],[1.0,\"#f0f921\"]],\"type\":\"contour\"}],\"contourcarpet\":[{\"colorbar\":{\"outlinewidth\":0,\"ticks\":\"\"},\"type\":\"contourcarpet\"}],\"heatmap\":[{\"colorbar\":{\"outlinewidth\":0,\"ticks\":\"\"},\"colorscale\":[[0.0,\"#0d0887\"],[0.1111111111111111,\"#46039f\"],[0.2222222222222222,\"#7201a8\"],[0.3333333333333333,\"#9c179e\"],[0.4444444444444444,\"#bd3786\"],[0.5555555555555556,\"#d8576b\"],[0.6666666666666666,\"#ed7953\"],[0.7777777777777778,\"#fb9f3a\"],[0.8888888888888888,\"#fdca26\"],[1.0,\"#f0f921\"]],\"type\":\"heatmap\"}],\"heatmapgl\":[{\"colorbar\":{\"outlinewidth\":0,\"ticks\":\"\"},\"colorscale\":[[0.0,\"#0d0887\"],[0.1111111111111111,\"#46039f\"],[0.2222222222222222,\"#7201a8\"],[0.3333333333333333,\"#9c179e\"],[0.4444444444444444,\"#bd3786\"],[0.5555555555555556,\"#d8576b\"],[0.6666666666666666,\"#ed7953\"],[0.7777777777777778,\"#fb9f3a\"],[0.8888888888888888,\"#fdca26\"],[1.0,\"#f0f921\"]],\"type\":\"heatmapgl\"}],\"histogram\":[{\"marker\":{\"pattern\":{\"fillmode\":\"overlay\",\"size\":10,\"solidity\":0.2}},\"type\":\"histogram\"}],\"histogram2d\":[{\"colorbar\":{\"outlinewidth\":0,\"ticks\":\"\"},\"colorscale\":[[0.0,\"#0d0887\"],[0.1111111111111111,\"#46039f\"],[0.2222222222222222,\"#7201a8\"],[0.3333333333333333,\"#9c179e\"],[0.4444444444444444,\"#bd3786\"],[0.5555555555555556,\"#d8576b\"],[0.6666666666666666,\"#ed7953\"],[0.7777777777777778,\"#fb9f3a\"],[0.8888888888888888,\"#fdca26\"],[1.0,\"#f0f921\"]],\"type\":\"histogram2d\"}],\"histogram2dcontour\":[{\"colorbar\":{\"outlinewidth\":0,\"ticks\":\"\"},\"colorscale\":[[0.0,\"#0d0887\"],[0.1111111111111111,\"#46039f\"],[0.2222222222222222,\"#7201a8\"],[0.3333333333333333,\"#9c179e\"],[0.4444444444444444,\"#bd3786\"],[0.5555555555555556,\"#d8576b\"],[0.6666666666666666,\"#ed7953\"],[0.7777777777777778,\"#fb9f3a\"],[0.8888888888888888,\"#fdca26\"],[1.0,\"#f0f921\"]],\"type\":\"histogram2dcontour\"}],\"mesh3d\":[{\"colorbar\":{\"outlinewidth\":0,\"ticks\":\"\"},\"type\":\"mesh3d\"}],\"parcoords\":[{\"line\":{\"colorbar\":{\"outlinewidth\":0,\"ticks\":\"\"}},\"type\":\"parcoords\"}],\"pie\":[{\"automargin\":true,\"type\":\"pie\"}],\"scatter\":[{\"marker\":{\"colorbar\":{\"outlinewidth\":0,\"ticks\":\"\"}},\"type\":\"scatter\"}],\"scatter3d\":[{\"line\":{\"colorbar\":{\"outlinewidth\":0,\"ticks\":\"\"}},\"marker\":{\"colorbar\":{\"outlinewidth\":0,\"ticks\":\"\"}},\"type\":\"scatter3d\"}],\"scattercarpet\":[{\"marker\":{\"colorbar\":{\"outlinewidth\":0,\"ticks\":\"\"}},\"type\":\"scattercarpet\"}],\"scattergeo\":[{\"marker\":{\"colorbar\":{\"outlinewidth\":0,\"ticks\":\"\"}},\"type\":\"scattergeo\"}],\"scattergl\":[{\"marker\":{\"colorbar\":{\"outlinewidth\":0,\"ticks\":\"\"}},\"type\":\"scattergl\"}],\"scattermapbox\":[{\"marker\":{\"colorbar\":{\"outlinewidth\":0,\"ticks\":\"\"}},\"type\":\"scattermapbox\"}],\"scatterpolar\":[{\"marker\":{\"colorbar\":{\"outlinewidth\":0,\"ticks\":\"\"}},\"type\":\"scatterpolar\"}],\"scatterpolargl\":[{\"marker\":{\"colorbar\":{\"outlinewidth\":0,\"ticks\":\"\"}},\"type\":\"scatterpolargl\"}],\"scatterternary\":[{\"marker\":{\"colorbar\":{\"outlinewidth\":0,\"ticks\":\"\"}},\"type\":\"scatterternary\"}],\"surface\":[{\"colorbar\":{\"outlinewidth\":0,\"ticks\":\"\"},\"colorscale\":[[0.0,\"#0d0887\"],[0.1111111111111111,\"#46039f\"],[0.2222222222222222,\"#7201a8\"],[0.3333333333333333,\"#9c179e\"],[0.4444444444444444,\"#bd3786\"],[0.5555555555555556,\"#d8576b\"],[0.6666666666666666,\"#ed7953\"],[0.7777777777777778,\"#fb9f3a\"],[0.8888888888888888,\"#fdca26\"],[1.0,\"#f0f921\"]],\"type\":\"surface\"}],\"table\":[{\"cells\":{\"fill\":{\"color\":\"#EBF0F8\"},\"line\":{\"color\":\"white\"}},\"header\":{\"fill\":{\"color\":\"#C8D4E3\"},\"line\":{\"color\":\"white\"}},\"type\":\"table\"}]},\"layout\":{\"annotationdefaults\":{\"arrowcolor\":\"#2a3f5f\",\"arrowhead\":0,\"arrowwidth\":1},\"autotypenumbers\":\"strict\",\"coloraxis\":{\"colorbar\":{\"outlinewidth\":0,\"ticks\":\"\"}},\"colorscale\":{\"diverging\":[[0,\"#8e0152\"],[0.1,\"#c51b7d\"],[0.2,\"#de77ae\"],[0.3,\"#f1b6da\"],[0.4,\"#fde0ef\"],[0.5,\"#f7f7f7\"],[0.6,\"#e6f5d0\"],[0.7,\"#b8e186\"],[0.8,\"#7fbc41\"],[0.9,\"#4d9221\"],[1,\"#276419\"]],\"sequential\":[[0.0,\"#0d0887\"],[0.1111111111111111,\"#46039f\"],[0.2222222222222222,\"#7201a8\"],[0.3333333333333333,\"#9c179e\"],[0.4444444444444444,\"#bd3786\"],[0.5555555555555556,\"#d8576b\"],[0.6666666666666666,\"#ed7953\"],[0.7777777777777778,\"#fb9f3a\"],[0.8888888888888888,\"#fdca26\"],[1.0,\"#f0f921\"]],\"sequentialminus\":[[0.0,\"#0d0887\"],[0.1111111111111111,\"#46039f\"],[0.2222222222222222,\"#7201a8\"],[0.3333333333333333,\"#9c179e\"],[0.4444444444444444,\"#bd3786\"],[0.5555555555555556,\"#d8576b\"],[0.6666666666666666,\"#ed7953\"],[0.7777777777777778,\"#fb9f3a\"],[0.8888888888888888,\"#fdca26\"],[1.0,\"#f0f921\"]]},\"colorway\":[\"#636efa\",\"#EF553B\",\"#00cc96\",\"#ab63fa\",\"#FFA15A\",\"#19d3f3\",\"#FF6692\",\"#B6E880\",\"#FF97FF\",\"#FECB52\"],\"font\":{\"color\":\"#2a3f5f\"},\"geo\":{\"bgcolor\":\"white\",\"lakecolor\":\"white\",\"landcolor\":\"#E5ECF6\",\"showlakes\":true,\"showland\":true,\"subunitcolor\":\"white\"},\"hoverlabel\":{\"align\":\"left\"},\"hovermode\":\"closest\",\"mapbox\":{\"style\":\"light\"},\"paper_bgcolor\":\"white\",\"plot_bgcolor\":\"#E5ECF6\",\"polar\":{\"angularaxis\":{\"gridcolor\":\"white\",\"linecolor\":\"white\",\"ticks\":\"\"},\"bgcolor\":\"#E5ECF6\",\"radialaxis\":{\"gridcolor\":\"white\",\"linecolor\":\"white\",\"ticks\":\"\"}},\"scene\":{\"xaxis\":{\"backgroundcolor\":\"#E5ECF6\",\"gridcolor\":\"white\",\"gridwidth\":2,\"linecolor\":\"white\",\"showbackground\":true,\"ticks\":\"\",\"zerolinecolor\":\"white\"},\"yaxis\":{\"backgroundcolor\":\"#E5ECF6\",\"gridcolor\":\"white\",\"gridwidth\":2,\"linecolor\":\"white\",\"showbackground\":true,\"ticks\":\"\",\"zerolinecolor\":\"white\"},\"zaxis\":{\"backgroundcolor\":\"#E5ECF6\",\"gridcolor\":\"white\",\"gridwidth\":2,\"linecolor\":\"white\",\"showbackground\":true,\"ticks\":\"\",\"zerolinecolor\":\"white\"}},\"shapedefaults\":{\"line\":{\"color\":\"#2a3f5f\"}},\"ternary\":{\"aaxis\":{\"gridcolor\":\"white\",\"linecolor\":\"white\",\"ticks\":\"\"},\"baxis\":{\"gridcolor\":\"white\",\"linecolor\":\"white\",\"ticks\":\"\"},\"bgcolor\":\"#E5ECF6\",\"caxis\":{\"gridcolor\":\"white\",\"linecolor\":\"white\",\"ticks\":\"\"}},\"title\":{\"x\":0.05},\"xaxis\":{\"automargin\":true,\"gridcolor\":\"white\",\"linecolor\":\"white\",\"ticks\":\"\",\"title\":{\"standoff\":15},\"zerolinecolor\":\"white\",\"zerolinewidth\":2},\"yaxis\":{\"automargin\":true,\"gridcolor\":\"white\",\"linecolor\":\"white\",\"ticks\":\"\",\"title\":{\"standoff\":15},\"zerolinecolor\":\"white\",\"zerolinewidth\":2}}},\"xaxis\":{\"anchor\":\"y\",\"domain\":[0.0,0.5],\"title\":{\"text\":\"Goals Scored in the first 20 mins\"},\"showgrid\":false,\"showticklabels\":false,\"range\":[15,0],\"side\":\"top\"},\"yaxis\":{\"anchor\":\"x\",\"domain\":[0.0,1.0],\"showgrid\":false,\"categoryorder\":\"total ascending\",\"ticksuffix\":\" \",\"showline\":false},\"xaxis2\":{\"anchor\":\"y2\",\"domain\":[0.5,1.0],\"title\":{\"text\":\"Goals Conceded in the first 20 mins\"},\"showgrid\":false,\"showticklabels\":false,\"range\":[0,15],\"side\":\"top\"},\"yaxis2\":{\"anchor\":\"x2\",\"domain\":[0.0,1.0],\"matches\":\"y\",\"showticklabels\":false,\"showgrid\":false,\"categoryorder\":\"total ascending\",\"ticksuffix\":\" \",\"showline\":false},\"title\":{\"font\":{\"size\":25,\"color\":\"#8a8d93\",\"family\":\"Lato, sans-serif\"},\"text\":\"How teams perfom in the first 20 mins?\",\"x\":0.9},\"font\":{\"color\":\"#8a8d93\"},\"width\":800,\"height\":700,\"plot_bgcolor\":\"#333\",\"paper_bgcolor\":\"#333\"},                        {\"responsive\": true}                    ).then(function(){\n",
       "                            \n",
       "var gd = document.getElementById('be2b7887-dd23-412a-9023-d0ea8bebaa87');\n",
       "var x = new MutationObserver(function (mutations, observer) {{\n",
       "        var display = window.getComputedStyle(gd).display;\n",
       "        if (!display || display === 'none') {{\n",
       "            console.log([gd, 'removed!']);\n",
       "            Plotly.purge(gd);\n",
       "            observer.disconnect();\n",
       "        }}\n",
       "}});\n",
       "\n",
       "// Listen for the removal of the full notebook cells\n",
       "var notebookContainer = gd.closest('#notebook-container');\n",
       "if (notebookContainer) {{\n",
       "    x.observe(notebookContainer, {childList: true});\n",
       "}}\n",
       "\n",
       "// Listen for the clearing of the current output cell\n",
       "var outputEl = gd.closest('.output');\n",
       "if (outputEl) {{\n",
       "    x.observe(outputEl, {childList: true});\n",
       "}}\n",
       "\n",
       "                        })                };                });            </script>        </div>"
      ]
     },
     "metadata": {},
     "output_type": "display_data"
    }
   ],
   "source": [
    "fig = make_subplots(rows=1, cols=2, specs=[[{}, {}]], shared_xaxes=False,\n",
    "                    shared_yaxes=True, horizontal_spacing=0)\n",
    "\n",
    "fig.append_trace(go.Bar(x=df2['Goals Scored first 20 mins'],\n",
    "                     y=df2['Team'], \n",
    "                     text=df[\"Goals Scored first 20 mins\"].map('{:,.0f}'.format), #Display the numbers with thousands separators in hover-over tooltip \n",
    "                     textposition='inside',\n",
    "                     orientation='h', \n",
    "                     width=0.7, \n",
    "                     showlegend=False, \n",
    "                     marker_color='#221f1f'), \n",
    "                     1, 1) # 1,1 represents row 1 column 1 in the plot grid\n",
    "\n",
    "fig.append_trace(go.Bar(x=df2['Goals Conceded first 20 mins'],\n",
    "                     y=df2['Team'], \n",
    "                     text=df[\"Goals Conceded first 20 mins\"].map('{:,.0f}'.format),\n",
    "                     textposition='inside',\n",
    "                     orientation='h', \n",
    "                     width=0.7, \n",
    "                     showlegend=False, \n",
    "                     marker_color='#b20710'), \n",
    "                     1, 2) # 1,2 represents row 1 column 2 in the plot grid\n",
    "\n",
    "fig.update_xaxes(showgrid = False,showticklabels=False,title_text=\"Goals Scored in the first 20 mins\", row=1, col=1, range=[15,0])\n",
    "fig.update_xaxes(showgrid = False,showticklabels=False,title_text=\"Goals Conceded in the first 20 mins\", row=1, col=2, range=[0,15])\n",
    "fig.update_yaxes(showgrid=False, categoryorder='total ascending', \n",
    "                 ticksuffix=' ', showline=False)\n",
    "\n",
    "fig.update_layout(title_text=\"How teams perfom in the first 20 mins?\", \n",
    "                  width=800, \n",
    "                  height=700,\n",
    "                  title_x=0.9,\n",
    "                  xaxis1={'side': 'top'},\n",
    "                  xaxis2={'side': 'top'},\n",
    "                  plot_bgcolor='#333', paper_bgcolor='#333',\n",
    "                  title_font=dict(size=25, color='#8a8d93',\n",
    "                                  family=\"Lato, sans-serif\"),\n",
    "                  font=dict(color='#8a8d93'))\n",
    "\n",
    "fig.show()\n"
   ]
  }
 ],
 "metadata": {
  "kernelspec": {
   "display_name": "Python 3 (ipykernel)",
   "language": "python",
   "name": "python3"
  },
  "language_info": {
   "codemirror_mode": {
    "name": "ipython",
    "version": 3
   },
   "file_extension": ".py",
   "mimetype": "text/x-python",
   "name": "python",
   "nbconvert_exporter": "python",
   "pygments_lexer": "ipython3",
   "version": "3.9.12"
  }
 },
 "nbformat": 4,
 "nbformat_minor": 5
}
